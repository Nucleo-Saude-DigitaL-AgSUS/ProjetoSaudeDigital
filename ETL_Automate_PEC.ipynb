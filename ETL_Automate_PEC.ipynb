{
 "cells": [
  {
   "cell_type": "markdown",
   "id": "d8eff766-5d27-4de4-9679-cc6201527e94",
   "metadata": {},
   "source": [
    "# Script Extração Automática de dados do PEC"
   ]
  },
  {
   "cell_type": "markdown",
   "id": "efe71b0c-73b6-4cae-87f4-5b624409cf4f",
   "metadata": {},
   "source": [
    "By (AgSUS)"
   ]
  },
  {
   "cell_type": "markdown",
   "id": "d7b2a3f9-c5f0-457c-ae15-9ce15394bc46",
   "metadata": {},
   "source": [
    
   ]
  },
  {
   "cell_type": "code",
   "execution_count": 33,
   "id": "863b366f-a31a-41fd-8ec4-e60be0fba7c3",
   "metadata": {},
   "outputs": [
    {
     "name": "stdout",
     "output_type": "stream",
     "text": [
      
     ]
    }
   ],
   "source": [
    "pip install pandas"
   ]
  },
  {
   "cell_type": "code",
   "execution_count": 35,
   "id": "c16d8026-9df2-47f7-9a26-6bad6c323f16",
   "metadata": {},
   "outputs": [
    {
     "name": "stdout",
     "output_type": "stream",
     "text": [
      "Diretório alterado para: C:\\Python\\Code\n"
     ]
    }
   ],
   "source": [
    "import os\n",
    "\n",
    "# Definir o novo diretório de trabalho\n",
    "novo_diretorio = r\"C:\\Python\\Code\"\n",
    "\n",
    "# Verificar se o diretório existe\n",
    "if os.path.exists(novo_diretorio):\n",
    "    os.chdir(novo_diretorio)  # Mudar para o novo diretório\n",
    "    print(f\"Diretório alterado para: {os.getcwd()}\")\n",
    "else:\n",
    "    print(f\"Diretório não encontrado: {novo_diretorio}\")"
   ]
  },
  {
   "cell_type": "markdown",
   "id": "4fb34f55-e86e-4eaa-b76d-9b8244f671a0",
   "metadata": {},
   "source": [
    "### Tratamento do CSV  Extração e Transformação (ETL)"
   ]
  },
  {
   "cell_type": "code",
   "execution_count": 37,
   "id": "eec82c90-c9de-4931-b76d-aaf87fe69094",
   "metadata": {},
   "outputs": [
    {
     "name": "stdout",
     "output_type": "stream",
     "text": [
      "Arquivo processado e salvo em: C:\\Python\\Scripts\\extracao_pec_processado.csv\n"
     ]
    }
   ],
   "source": [
    "import pandas as pd\n",
    "import os\n",
    "\n",
    "# Função para processar o CSV\n",
    "def processar_csv(caminho_entrada, caminho_saida):\n",
    "    try:\n",
    "        # Ler o arquivo CSV, pulando as 10 primeiras linhas\n",
    "        df = pd.read_csv(caminho_entrada, skiprows=10)\n",
    "\n",
    "        # Transpor o DataFrame (transformar colunas em linhas)\n",
    "        df_transposto = df.transpose()\n",
    "\n",
    "        # Converter as linhas transpostas em tuplas\n",
    "        tuplas = [tuple(row) for row in df_transposto.values]\n",
    "\n",
    "        # Adicionar os títulos das categorias como primeira linha\n",
    "        cabecalho = tuple(df.columns)\n",
    "        tuplas_com_cabecalho = [cabecalho] + tuplas\n",
    "\n",
    "        # Salvar o resultado em um novo arquivo CSV\n",
    "        df_final = pd.DataFrame(tuplas_com_cabecalho)\n",
    "        df_final.to_csv(caminho_saida, index=False, header=False)\n",
    "\n",
    "        print(f\"Arquivo processado e salvo em: {caminho_saida}\")\n",
    "    except Exception as e:\n",
    "        print(f\"Erro ao processar o arquivo: {e}\")\n",
    "\n",
    "# Caminho do arquivo de entrada e saída (ajuste conforme necessário)\n",
    "caminho_entrada = r\"C:\\Python\\Scripts\\extracao_pec.csv\"\n",
    "caminho_saida = r\"C:\\Python\\Scripts\\extracao_pec_processado.csv\"\n",
    "\n",
    "# Executar a função\n",
    "processar_csv(caminho_entrada, caminho_saida)"
   ]
  },
  {
   "cell_type": "markdown",
   "id": "889998e8-1b34-4c95-aac6-6c4637596a55",
   "metadata": {},
   "source": [
    "### Processamento em Lote para multiplos arquivos CSV"
   ]
  },
  {
   "cell_type": "code",
   "execution_count": null,
   "id": "9c0db8ea-1226-4cb7-a6f4-ff8748345017",
   "metadata": {},
   "outputs": [],
   "source": [
    "import pandas as pd\n",
    "import os\n",
    "\n",
    "# Função para processar o CSV\n",
    "def processar_csv(caminho_entrada, caminho_saida):\n",
    "    try:\n",
    "        # Ler o arquivo CSV, pulando as 10 primeiras linhas\n",
    "        df = pd.read_csv(caminho_entrada, skiprows=10)\n",
    "\n",
    "        # Transpor o DataFrame (transformar colunas em linhas)\n",
    "        df_transposto = df.transpose()\n",
    "\n",
    "        # Converter as linhas transpostas em tuplas\n",
    "        tuplas = [tuple(row) for row in df_transposto.values]\n",
    "\n",
    "        # Adicionar os títulos das categorias como primeira linha\n",
    "        cabecalho = tuple(df.columns)\n",
    "        tuplas_com_cabecalho = [cabecalho] + tuplas\n",
    "\n",
    "        # Salvar o resultado em um novo arquivo CSV\n",
    "        df_final = pd.DataFrame(tuplas_com_cabecalho)\n",
    "        df_final.to_csv(caminho_saida, index=False, header=False)\n",
    "\n",
    "        print(f\"Arquivo processado e salvo em: {caminho_saida}\")\n",
    "    except Exception as e:\n",
    "        print(f\"Erro ao processar o arquivo {caminho_entrada}: {e}\")\n",
    "\n",
    "# Diretório de entrada e saída (ajuste conforme necessário)\n",
    "diretorio_entrada = r\"C:\\Python\\Scripts\"\n",
    "diretorio_saida = r\"C:\\Python\\Scripts\"\n",
    "\n",
    "# Criar a pasta de saída se ela não existir\n",
    "if not os.path.exists(diretorio_saida):\n",
    "    os.makedirs(diretorio_saida)\n",
    "\n",
    "# Processar todos os arquivos CSV no diretório de entrada\n",
    "for arquivo in os.listdir(diretorio_entrada):\n",
    "    if arquivo.endswith(\".csv\"):\n",
    "        caminho_entrada = os.path.join(diretorio_entrada, arquivo)\n",
    "        caminho_saida = os.path.join(diretorio_saida, f\"processado_{arquivo}\")\n",
    "        processar_csv(caminho_entrada, caminho_saida)"
   ]
  }
 ],
 "metadata": {
  "kernelspec": {
   "display_name": "Python 3 (ipykernel)",
   "language": "python",
   "name": "python3"
  },
  "language_info": {
   "codemirror_mode": {
    "name": "ipython",
    "version": 3
   },
   "file_extension": ".py",
   "mimetype": "text/x-python",
   "name": "python",
   "nbconvert_exporter": "python",
   "pygments_lexer": "ipython3",
   "version": "3.12.7"
  }
 },
 "nbformat": 4,
 "nbformat_minor": 5
}
