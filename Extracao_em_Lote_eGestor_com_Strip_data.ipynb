{
 "cells": [
  {
   "cell_type": "code",
   "execution_count": 1,
   "id": "fbd8c0fc-f788-4200-b44f-aad36fb19a71",
   "metadata": {},
   "outputs": [
    {
     "name": "stdout",
     "output_type": "stream",
     "text": [
      "Requirement already satisfied: pandas in c:\\users\\ewerton.manzotte_age\\anaconda3\\lib\\site-packages (2.2.2)\n",
      "Requirement already satisfied: openpyxl in c:\\users\\ewerton.manzotte_age\\anaconda3\\lib\\site-packages (3.1.5)\n",
      "Requirement already satisfied: numpy>=1.26.0 in c:\\users\\ewerton.manzotte_age\\anaconda3\\lib\\site-packages (from pandas) (1.26.4)\n",
      "Requirement already satisfied: python-dateutil>=2.8.2 in c:\\users\\ewerton.manzotte_age\\anaconda3\\lib\\site-packages (from pandas) (2.9.0.post0)\n",
      "Requirement already satisfied: pytz>=2020.1 in c:\\users\\ewerton.manzotte_age\\anaconda3\\lib\\site-packages (from pandas) (2024.1)\n",
      "Requirement already satisfied: tzdata>=2022.7 in c:\\users\\ewerton.manzotte_age\\anaconda3\\lib\\site-packages (from pandas) (2023.3)\n",
      "Requirement already satisfied: et-xmlfile in c:\\users\\ewerton.manzotte_age\\anaconda3\\lib\\site-packages (from openpyxl) (1.1.0)\n",
      "Requirement already satisfied: six>=1.5 in c:\\users\\ewerton.manzotte_age\\anaconda3\\lib\\site-packages (from python-dateutil>=2.8.2->pandas) (1.16.0)\n"
     ]
    }
   ],
   "source": [
    "!pip install pandas openpyxl"
   ]
  },
  {
   "cell_type": "code",
   "execution_count": 9,
   "id": "57f86f89-54e5-4179-94e3-9c8b444c426d",
   "metadata": {},
   "outputs": [
    {
     "name": "stdout",
     "output_type": "stream",
     "text": [
      "Processando: 01_Janeiro_2025.xlsx...\n",
      "Processando: 02_Fevereiro_2025.xlsx...\n",
      "Processando: 03_Marco_2025.xlsx...\n",
      "\n",
      "Arquivo consolidado salvo em: consolidado_filtrado.xlsx\n",
      "Total de registros filtrados: 1,325\n"
     ]
    }
   ],
   "source": [
    "#%% Importar bibliotecas necessárias\n",
    "import pandas as pd\n",
    "import os\n",
    "\n",
    "#%% Definir parâmetros iniciais\n",
    "input_dir = r'input'  # Atualize este caminho\n",
    "output_file = 'consolidado_filtrado.xlsx'\n",
    "coluna_filtro = 'STATUS DO PROFISSIONAL'  # Removido os colchetes para ser uma string\n",
    "valores_filtro = ['Licença Maternidade', 'Licença Médica - acima de 15 dias']\n",
    "\n",
    "#%% Processamento em lote\n",
    "consolidado = pd.DataFrame()\n",
    "\n",
    "for arquivo in os.listdir(input_dir):\n",
    "    if arquivo.endswith(('.xlsx', '.xls')):\n",
    "        print(f'Processando: {arquivo}...')\n",
    "        \n",
    "        # Carregar arquivo\n",
    "        caminho_completo = os.path.join(input_dir, arquivo)\n",
    "        df = pd.read_excel(caminho_completo)\n",
    "        \n",
    "        # Verificar se a coluna existe\n",
    "        if coluna_filtro not in df.columns:  # Agora verificando uma string, não uma lista\n",
    "            print(f'Aviso: Arquivo {arquivo} não possui a coluna {coluna_filtro}')\n",
    "            continue\n",
    "            \n",
    "        # Aplicar filtro\n",
    "        df_filtrado = df[df[coluna_filtro].isin(valores_filtro)]\n",
    "        \n",
    "        # Adicionar ao consolidado\n",
    "        consolidado = pd.concat([consolidado, df_filtrado], ignore_index=True)\n",
    "\n",
    "#%% Exportar resultados\n",
    "if not consolidado.empty:\n",
    "    with pd.ExcelWriter(output_file, engine='openpyxl') as writer:\n",
    "        consolidado.to_excel(writer, index=False)\n",
    "    print(f'\\nArquivo consolidado salvo em: {output_file}')\n",
    "    print(f'Total de registros filtrados: {len(consolidado):,}')\n",
    "else:\n",
    "    print('Nenhum registro encontrado com os critérios especificados')"
   ]
  },
  {
   "cell_type": "code",
   "execution_count": 13,
   "id": "36cc4ee8-36b8-4b78-ba37-2a64c488d08b",
   "metadata": {},
   "outputs": [
    {
     "name": "stdout",
     "output_type": "stream",
     "text": [
      "Processamento concluído! Formato das datas:\n",
      "  DATA INICIO    DATA FIM\n",
      "0  29/10/2024  25/02/2025\n",
      "1  22/10/2024  18/02/2025\n",
      "2  08/01/2025  09/03/2025\n",
      "3  26/11/2024  26/01/2025\n",
      "4  30/10/2024  30/04/2025\n"
     ]
    }
   ],
   "source": [
    "import pandas as pd\n",
    "\n",
    "#Antes de executar, o arquivo .xlsx  deve estar no diretório raiz do Jupyterlab\n",
    "#A primeira linha da planilha não pode estar mesclada, copiar e colar conteúdo em outra planilha como Texto\n",
    "\n",
    "\n",
    "# Função para extrair a última data e formatá-la\n",
    "def extrair_ultima_data(data_str):\n",
    "    if isinstance(data_str, str):\n",
    "        datas = [d.strip() for d in data_str.split('|') if d.strip()]\n",
    "        if datas:\n",
    "            ultima_data = datas[-1]\n",
    "            try:\n",
    "                # Tenta converter para datetime e retorna no formato desejado\n",
    "                return pd.to_datetime(ultima_data, format='%d/%m/%Y').strftime('%d/%m/%Y')\n",
    "            except:\n",
    "                return None  # Caso a data seja inválida\n",
    "    return data_str\n",
    "\n",
    "# Carregar os dados\n",
    "df = pd.read_excel(\"consolidado_filtrado.xlsx\", skiprows=0, decimal=',')\n",
    "\n",
    "# Remover coluna CID\n",
    "df = df.drop(columns=['CID'])\n",
    "\n",
    "# Processar colunas de data\n",
    "for coluna in ['DATA INICIO', 'DATA FIM']:\n",
    "    df[coluna] = df[coluna].apply(extrair_ultima_data)\n",
    "\n",
    "# Salvar o arquivo tratado\n",
    "df.to_excel(\"consolidado_filtrado_tratado.xlsx\", index=False)\n",
    "\n",
    "print(\"Processamento concluído! Formato das datas:\")\n",
    "print(df[['DATA INICIO', 'DATA FIM']].head())"
   ]
  },
  {
   "cell_type": "code",
   "execution_count": null,
   "id": "a0687108-daaf-4ada-83b7-89170a9219e4",
   "metadata": {},
   "outputs": [],
   "source": []
  }
 ],
 "metadata": {
  "kernelspec": {
   "display_name": "Python 3 (ipykernel)",
   "language": "python",
   "name": "python3"
  },
  "language_info": {
   "codemirror_mode": {
    "name": "ipython",
    "version": 3
   },
   "file_extension": ".py",
   "mimetype": "text/x-python",
   "name": "python",
   "nbconvert_exporter": "python",
   "pygments_lexer": "ipython3",
   "version": "3.12.7"
  }
 },
 "nbformat": 4,
 "nbformat_minor": 5
}
