{
 "cells": [
  {
   "cell_type": "code",
   "execution_count": 4,
   "id": "fbd8c0fc-f788-4200-b44f-aad36fb19a71",
   "metadata": {},
   "outputs": [
    {
     "name": "stdout",
     "output_type": "stream",
     "text": [
      
     ]
    }
   ],
   "source": [
    "!pip install pandas openpyxl"
   ]
  },
  {
   "cell_type": "code",
   "execution_count": 32,
   "id": "fc98366c-7f3f-4a39-a037-e8ff80aa75cb",
   "metadata": {},
   "outputs": [
    {
     "name": "stdout",
     "output_type": "stream",
     "text": [
      "Processando: 01_Janeiro.xlsx...\n",
      "Processando: 02_Fevereiro.xlsx...\n",
      "Processando: 03_Marco.xlsx...\n",
      "Processando: 04_Abril.xlsx...\n",
      "Processando: 05_Maio.xlsx...\n",
      "Processando: 06_Junho.xlsx...\n",
      "Processando: 07_julho.xlsx...\n",
      "Processando: 08_Agosto.xlsx...\n",
      "Processando: 09_Setembro.xlsx...\n",
      "Processando: 10_Outubro.xlsx...\n",
      "Processando: 11_Novembro.xlsx...\n",
      "Processando: 12_Dezembro.xlsx...\n",
      "\n",
      "Arquivo consolidado salvo em: consolidado_filtrado.xlsx\n",
      "Total de registros filtrados: 5,230\n"
     ]
    }
   ],
   "source": [
    "#%% Importar bibliotecas necessárias\n",
    "import pandas as pd\n",
    "import os\n",
    "\n",
    "#%% Definir parâmetros iniciais\n",
    "input_dir = r'input'  # Atualize este caminho\n",
    "output_file = 'consolidado_filtrado.xlsx'\n",
    "coluna_filtro = 'STATUS DO PROFISSIONAL'\n",
    "valores_filtro = ['Licença Maternidade', 'Licença Médica - acima de 15 dias']\n",
    "\n",
    "#%% Processamento em lote\n",
    "consolidado = pd.DataFrame()\n",
    "\n",
    "for arquivo in os.listdir(input_dir):\n",
    "    if arquivo.endswith(('.xlsx', '.xls')):\n",
    "        print(f'Processando: {arquivo}...')\n",
    "        \n",
    "        # Carregar arquivo\n",
    "        caminho_completo = os.path.join(input_dir, arquivo)\n",
    "        df = pd.read_excel(caminho_completo)\n",
    "        \n",
    "        # Verificar se a coluna existe\n",
    "        if coluna_filtro not in df.columns:\n",
    "            print(f'Aviso: Arquivo {arquivo} não possui a coluna {coluna_filtro}')\n",
    "            continue\n",
    "            \n",
    "        # Aplicar filtro\n",
    "        df_filtrado = df[df[coluna_filtro].isin(valores_filtro)]\n",
    "        \n",
    "        # Adicionar ao consolidado\n",
    "        consolidado = pd.concat([consolidado, df_filtrado], ignore_index=True)\n",
    "\n",
    "#%% Exportar resultados\n",
    "if not consolidado.empty:\n",
    "    with pd.ExcelWriter(output_file, engine='openpyxl') as writer:\n",
    "        consolidado.to_excel(writer, index=False)\n",
    "    print(f'\\nArquivo consolidado salvo em: {output_file}')\n",
    "    print(f'Total de registros filtrados: {len(consolidado):,}')\n",
    "else:\n",
    "    print('Nenhum registro encontrado com os critérios especificados')"
   ]
  },
  {
   "cell_type": "code",
   "execution_count": null,
   "id": "36cc4ee8-36b8-4b78-ba37-2a64c488d08b",
   "metadata": {},
   "outputs": [],
   "source": []
  }
 ],
 "metadata": {
  "kernelspec": {
   "display_name": "Python 3 (ipykernel)",
   "language": "python",
   "name": "python3"
  },
  "language_info": {
   "codemirror_mode": {
    "name": "ipython",
    "version": 3
   },
   "file_extension": ".py",
   "mimetype": "text/x-python",
   "name": "python",
   "nbconvert_exporter": "python",
   "pygments_lexer": "ipython3",
   "version": "3.12.7"
  }
 },
 "nbformat": 4,
 "nbformat_minor": 5
}
