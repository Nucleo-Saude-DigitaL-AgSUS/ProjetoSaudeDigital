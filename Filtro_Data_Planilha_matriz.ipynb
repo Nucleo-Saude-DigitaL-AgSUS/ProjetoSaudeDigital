{
 "cells": [
  {
   "cell_type": "code",
   "execution_count": 2,
   "id": "7d549f6f-19f5-4f91-9852-cf36b4205e1b",
   "metadata": {},
   "outputs": [
    {
     "name": "stdout",
     "output_type": "stream",
     "text": [
      "Requirement already satisfied: pandas in c:\\users\\ewerton.manzotte_age\\anaconda3\\lib\\site-packages (2.2.2)\n",
      "Requirement already satisfied: openpyxl in c:\\users\\ewerton.manzotte_age\\anaconda3\\lib\\site-packages (3.1.5)\n",
      "Requirement already satisfied: numpy>=1.26.0 in c:\\users\\ewerton.manzotte_age\\anaconda3\\lib\\site-packages (from pandas) (1.26.4)\n",
      "Requirement already satisfied: python-dateutil>=2.8.2 in c:\\users\\ewerton.manzotte_age\\anaconda3\\lib\\site-packages (from pandas) (2.9.0.post0)\n",
      "Requirement already satisfied: pytz>=2020.1 in c:\\users\\ewerton.manzotte_age\\anaconda3\\lib\\site-packages (from pandas) (2024.1)\n",
      "Requirement already satisfied: tzdata>=2022.7 in c:\\users\\ewerton.manzotte_age\\anaconda3\\lib\\site-packages (from pandas) (2023.3)\n",
      "Requirement already satisfied: et-xmlfile in c:\\users\\ewerton.manzotte_age\\anaconda3\\lib\\site-packages (from openpyxl) (1.1.0)\n",
      "Requirement already satisfied: six>=1.5 in c:\\users\\ewerton.manzotte_age\\anaconda3\\lib\\site-packages (from python-dateutil>=2.8.2->pandas) (1.16.0)\n"
     ]
    }
   ],
   "source": [
    "!pip install pandas openpyxl"
   ]
  },
  {
   "cell_type": "code",
   "execution_count": 29,
   "id": "1086efbc-ee84-4b98-b1d3-6feb7d25e65d",
   "metadata": {},
   "outputs": [
    {
     "name": "stdout",
     "output_type": "stream",
     "text": [
      "Processamento concluído! Formato das datas:\n",
      "  DATA INICIO    DATA FIM\n",
      "0         NaN         NaN\n",
      "1         NaN         NaN\n",
      "2         NaN         NaN\n",
      "3  29/01/2025  29/01/2025\n",
      "4         NaN         NaN\n"
     ]
    }
   ],
   "source": [
    "import pandas as pd\n",
    "\n",
    "# Função para extrair a última data e formatá-la\n",
    "def extrair_ultima_data(data_str):\n",
    "    if isinstance(data_str, str):\n",
    "        datas = [d.strip() for d in data_str.split('|') if d.strip()]\n",
    "        if datas:\n",
    "            ultima_data = datas[-1]\n",
    "            try:\n",
    "                # Tenta converter para datetime e retorna no formato desejado\n",
    "                return pd.to_datetime(ultima_data, format='%d/%m/%Y').strftime('%d/%m/%Y')\n",
    "            except:\n",
    "                return None  # Caso a data seja inválida\n",
    "    return data_str\n",
    "\n",
    "# Carregar os dados\n",
    "df = pd.read_excel(\"01_Janeiro.xlsx\", skiprows=3, decimal=',')\n",
    "\n",
    "# Remover coluna CID\n",
    "df = df.drop(columns=['CID'])\n",
    "\n",
    "# Processar colunas de data\n",
    "for coluna in ['DATA INICIO', 'DATA FIM']:\n",
    "    df[coluna] = df[coluna].apply(extrair_ultima_data)\n",
    "\n",
    "# Salvar o arquivo tratado\n",
    "df.to_excel(\"01_Janeiro_Tratado.xlsx\", index=False)\n",
    "\n",
    "print(\"Processamento concluído! Formato das datas:\")\n",
    "print(df[['DATA INICIO', 'DATA FIM']].head())"
   ]
  },
  {
   "cell_type": "code",
   "execution_count": null,
   "id": "bc83e974-dbd4-4e2c-b9bd-95fadd762de4",
   "metadata": {},
   "outputs": [],
   "source": []
  }
 ],
 "metadata": {
  "kernelspec": {
   "display_name": "Python 3 (ipykernel)",
   "language": "python",
   "name": "python3"
  },
  "language_info": {
   "codemirror_mode": {
    "name": "ipython",
    "version": 3
   },
   "file_extension": ".py",
   "mimetype": "text/x-python",
   "name": "python",
   "nbconvert_exporter": "python",
   "pygments_lexer": "ipython3",
   "version": "3.12.7"
  }
 },
 "nbformat": 4,
 "nbformat_minor": 5
}
