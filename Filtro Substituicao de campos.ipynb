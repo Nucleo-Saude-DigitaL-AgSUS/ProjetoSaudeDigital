{
 "cells": [
  {
   "cell_type": "code",
   "execution_count": 3,
   "id": "7d549f6f-19f5-4f91-9852-cf36b4205e1b",
   "metadata": {},
   "outputs": [
    {
     "name": "stdout",
     "output_type": "stream",
     "text": [
     
     ]
    }
   ],
   "source": [
    "!pip install pandas openpyxl"
   ]
  },
  {
   "cell_type": "code",
   "execution_count": 5,
   "id": "3af1d4ae-2c4f-48bb-8d84-d49dad687daf",
   "metadata": {},
   "outputs": [
    {
     "name": "stderr",
     "output_type": "stream",
     "text": [
      "C:\\Users\\ewerton.manzotte_age\\AppData\\Local\\Temp\\ipykernel_960\\819440683.py:16: FutureWarning: Setting an item of incompatible dtype is deprecated and will raise in a future error of pandas. Value '0        2 - Alta vulnerabilidade\n",
      "1        2 - Alta vulnerabilidade\n",
      "2        2 - Alta vulnerabilidade\n",
      "3        2 - Alta vulnerabilidade\n",
      "4        2 - Alta vulnerabilidade\n",
      "                  ...            \n",
      "5565    3 - Media vulnerabilidade\n",
      "5566    4 - Baixa vulnerabilidade\n",
      "5567     2 - Alta vulnerabilidade\n",
      "5568    3 - Media vulnerabilidade\n",
      "5569     2 - Alta vulnerabilidade\n",
      "Name: Índice de Vulnerabilidade Social, Length: 5570, dtype: object' has dtype incompatible with int64, please explicitly cast to a compatible dtype first.\n",
      "  df.iloc[:, 4] = df.iloc[:, 4].map(mapeamento)\n"
     ]
    },
    {
     "name": "stdout",
     "output_type": "stream",
     "text": [
      "Substituição concluída e arquivo salvo com sucesso!\n"
     ]
    }
   ],
   "source": [
    "import pandas as pd\n",
    "\n",
    "# Carregar a planilha original\n",
    "df = pd.read_excel('Planilha_IED.xlsx')\n",
    "\n",
    "# Dicionário de mapeamento para substituição\n",
    "mapeamento = {\n",
    "    1: '1 - Muito alta vulnerabilidade',\n",
    "    2: '2 - Alta vulnerabilidade',\n",
    "    3: '3 - Media vulnerabilidade',\n",
    "    4: '4 - Baixa vulnerabilidade',\n",
    "    5: '5 - Muito baixa vulnerabilidade'\n",
    "}\n",
    "\n",
    "# Substituir os valores na coluna 5 (índice 4 no Python)\n",
    "df.iloc[:, 4] = df.iloc[:, 4].map(mapeamento)\n",
    "\n",
    "# Salvar o novo arquivo com as alterações\n",
    "df.to_excel('Planilha_IED_Alterado.xlsx', index=False)\n",
    "\n",
    "print(\"Substituição concluída e arquivo salvo com sucesso!\")"
   ]
  },
  {
   "cell_type": "code",
   "execution_count": null,
   "id": "72625f0e-1261-4d60-b428-5b2e61c7e78b",
   "metadata": {},
   "outputs": [],
   "source": []
  }
 ],
 "metadata": {
  "kernelspec": {
   "display_name": "Python 3 (ipykernel)",
   "language": "python",
   "name": "python3"
  },
  "language_info": {
   "codemirror_mode": {
    "name": "ipython",
    "version": 3
   },
   "file_extension": ".py",
   "mimetype": "text/x-python",
   "name": "python",
   "nbconvert_exporter": "python",
   "pygments_lexer": "ipython3",
   "version": "3.12.7"
  }
 },
 "nbformat": 4,
 "nbformat_minor": 5
}
